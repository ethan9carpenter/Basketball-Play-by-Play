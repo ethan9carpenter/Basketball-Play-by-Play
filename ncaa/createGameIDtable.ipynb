{
 "cells": [
  {
   "cell_type": "code",
   "execution_count": 1,
   "metadata": {},
   "outputs": [],
   "source": [
    "import sqlite3 as sql\n",
    "import pandas as pd"
   ]
  },
  {
   "cell_type": "code",
   "execution_count": 69,
   "metadata": {},
   "outputs": [],
   "source": [
    "conn = sql.connect('ncaa_pbp.db')\n",
    "df = None"
   ]
  },
  {
   "cell_type": "code",
   "execution_count": 70,
   "metadata": {},
   "outputs": [],
   "source": [
    " for year in range(2010, 2019+1):\n",
    "    seasonData = pd.read_sql(\"\"\"SELECT DISTINCT\n",
    "                            Season, DayNum, WTeamID, LTeamID\n",
    "                        FROM \n",
    "                            \"{}-{}\"\n",
    "                        \"\"\".format(year-1, year), conn)    \n",
    "    if df is None:\n",
    "        df = seasonData\n",
    "    else:\n",
    "        df = df.append(seasonData)"
   ]
  },
  {
   "cell_type": "code",
   "execution_count": 75,
   "metadata": {},
   "outputs": [],
   "source": [
    "copy = df.reset_index()\n",
    "copy.rename({'index': 'GameID'}, axis=1, inplace=True)\n",
    "copy.set_index('GameID', inplace=True)"
   ]
  },
  {
   "cell_type": "code",
   "execution_count": 77,
   "metadata": {},
   "outputs": [],
   "source": [
    "copy.to_sql('games', conn)"
   ]
  },
  {
   "cell_type": "code",
   "execution_count": null,
   "metadata": {},
   "outputs": [],
   "source": []
  }
 ],
 "metadata": {
  "kernelspec": {
   "display_name": "Python 3",
   "language": "python",
   "name": "python3"
  },
  "language_info": {
   "codemirror_mode": {
    "name": "ipython",
    "version": 3
   },
   "file_extension": ".py",
   "mimetype": "text/x-python",
   "name": "python",
   "nbconvert_exporter": "python",
   "pygments_lexer": "ipython3",
   "version": "3.6.2"
  }
 },
 "nbformat": 4,
 "nbformat_minor": 2
}
