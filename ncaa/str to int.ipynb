{
 "cells": [
  {
   "cell_type": "code",
   "execution_count": 30,
   "metadata": {},
   "outputs": [],
   "source": [
    "import pandas as pd\n",
    "import numpy as np\n",
    "import sqlite3 as sql\n",
    "\n",
    "conn = sql.connect(\"ncaa_pbp.db\")\n",
    "df = pd.read_sql(\"\"\"\n",
    "                SELECT\n",
    "                 *\n",
    "                FROM\n",
    "                 \"2017-2018\"\n",
    "                INNER JOIN \n",
    "                    \"Events\" ON events.EventType = \"2017-2018\".EventType\n",
    "                LIMIT\n",
    "                    1000\n",
    "                 \"\"\", conn)"
   ]
  },
  {
   "cell_type": "code",
   "execution_count": 34,
   "metadata": {},
   "outputs": [
    {
     "data": {
      "text/plain": [
       "25"
      ]
     },
     "execution_count": 34,
     "metadata": {},
     "output_type": "execute_result"
    }
   ],
   "source": [
    "df = pd.read_sql(\"\"\"\n",
    "                SELECT\n",
    "                 EventType\n",
    "                FROM\n",
    "                 \"2016-2017\"\n",
    "                 \"\"\", conn)\n"
   ]
  },
  {
   "cell_type": "code",
   "execution_count": 35,
   "metadata": {},
   "outputs": [],
   "source": [
    "events = set(df['EventType'])"
   ]
  },
  {
   "cell_type": "code",
   "execution_count": 37,
   "metadata": {},
   "outputs": [
    {
     "data": {
      "text/plain": [
       "{'assist',\n",
       " 'block',\n",
       " 'foul_pers',\n",
       " 'foul_tech',\n",
       " 'made1_free',\n",
       " 'made2_dunk',\n",
       " 'made2_jump',\n",
       " 'made2_lay',\n",
       " 'made2_tip',\n",
       " 'made3_jump',\n",
       " 'miss1_free',\n",
       " 'miss2_dunk',\n",
       " 'miss2_jump',\n",
       " 'miss2_lay',\n",
       " 'miss2_tip',\n",
       " 'miss3_jump',\n",
       " 'reb_dead',\n",
       " 'reb_def',\n",
       " 'reb_off',\n",
       " 'steal',\n",
       " 'sub_in',\n",
       " 'sub_out',\n",
       " 'timeout',\n",
       " 'timeout_tv',\n",
       " 'turnover'}"
      ]
     },
     "execution_count": 37,
     "metadata": {},
     "output_type": "execute_result"
    }
   ],
   "source": [
    "events"
   ]
  },
  {
   "cell_type": "code",
   "execution_count": null,
   "metadata": {},
   "outputs": [],
   "source": []
  }
 ],
 "metadata": {
  "kernelspec": {
   "display_name": "Python 3",
   "language": "python",
   "name": "python3"
  },
  "language_info": {
   "codemirror_mode": {
    "name": "ipython",
    "version": 3
   },
   "file_extension": ".py",
   "mimetype": "text/x-python",
   "name": "python",
   "nbconvert_exporter": "python",
   "pygments_lexer": "ipython3",
   "version": "3.6.2"
  }
 },
 "nbformat": 4,
 "nbformat_minor": 2
}
